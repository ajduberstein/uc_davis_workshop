{
 "cells": [
  {
   "cell_type": "markdown",
   "metadata": {
    "slideshow": {
     "slide_type": "-"
    }
   },
   "source": [
    "# Using Python for Data Analysis"
   ]
  },
  {
   "cell_type": "markdown",
   "metadata": {},
   "source": [
    "## Fundamental usage of Python\n",
    "\n",
    "We'll need to understand some very basic Python in order to do this tutorial."
   ]
  },
  {
   "cell_type": "code",
   "execution_count": null,
   "metadata": {},
   "outputs": [],
   "source": [
    "'Hello World'  # Change the letters and press on your keyboard control + Enter"
   ]
  },
  {
   "cell_type": "code",
   "execution_count": null,
   "metadata": {},
   "outputs": [],
   "source": [
    "'你好世界'  # Or press the ▶️Run button above"
   ]
  },
  {
   "cell_type": "markdown",
   "metadata": {},
   "source": [
    "#### Assigning variables to values\n",
    "\n",
    "You can store variables for re-use. You've hopefully seen this in other programming languages:"
   ]
  },
  {
   "cell_type": "code",
   "execution_count": null,
   "metadata": {},
   "outputs": [],
   "source": [
    "# You can assign values to variables\n",
    "a = 1\n",
    "print('Print a single number:')\n",
    "print(a)\n",
    "print('Arithmetic operations, too:')\n",
    "print(a + a)"
   ]
  },
  {
   "cell_type": "markdown",
   "metadata": {},
   "source": [
    "#### Quick review of types"
   ]
  },
  {
   "cell_type": "markdown",
   "metadata": {},
   "source": [
    "A few types we'll focus on:\n",
    "- `Booleans`, which indicate whether something is true or false\n",
    "- `Strings`, which represent a group of characters, like `'hey'`\n",
    "- Whole numbers like `7` or `101` (called *integers*) and fractions like `7.3` and `3.41` (called here *floats*)"
   ]
  },
  {
   "cell_type": "code",
   "execution_count": null,
   "metadata": {},
   "outputs": [],
   "source": [
    "b = 'Hello everyone'\n",
    "c = '大家好'\n",
    "print(b)\n",
    "print(c)"
   ]
  },
  {
   "cell_type": "code",
   "execution_count": null,
   "metadata": {},
   "outputs": [],
   "source": [
    "'大' in '大家好'"
   ]
  },
  {
   "cell_type": "code",
   "execution_count": null,
   "metadata": {},
   "outputs": [],
   "source": [
    "b.lower()"
   ]
  },
  {
   "cell_type": "code",
   "execution_count": null,
   "metadata": {},
   "outputs": [],
   "source": [
    "b[0]  # Get the first letter of string, note that 0 indicates the  first"
   ]
  },
  {
   "cell_type": "code",
   "execution_count": null,
   "metadata": {},
   "outputs": [],
   "source": [
    "b[6:] # Get the seventh character until the end"
   ]
  },
  {
   "cell_type": "markdown",
   "metadata": {},
   "source": [
    "## Pandas Overview\n",
    "\n",
    "Pandas is a widely-used library for data analyis. We'll be using a small subset of its features for this talk.\n",
    "\n",
    "First, execute the next cell to load up the `pandas` and `seaborn` libraries."
   ]
  },
  {
   "cell_type": "code",
   "execution_count": null,
   "metadata": {},
   "outputs": [],
   "source": [
    "# If you're running this \"locally\" (on your computer, outside of this lecture and not on Binder),\n",
    "# you will need to install these libraries\n",
    "import pandas as pd\n",
    "import seaborn as sns"
   ]
  },
  {
   "cell_type": "code",
   "execution_count": null,
   "metadata": {},
   "outputs": [],
   "source": [
    "# Loading in a CSV\n",
    "# Read a file from a URL\n",
    "AIR_TRAFFIC_URL = 'https://raw.githubusercontent.com/ajduberstein/sf_public_data/master/Air_Traffic_Passenger_Statistics.csv'\n",
    "FLOOD_DATA_URL = 'https://raw.githubusercontent.com/ajduberstein/dartmouth_flood_data/master/floods.csv'\n",
    "floods = pd.read_csv(FLOOD_DATA_URL)\n",
    "sfo = pd.read_csv(AIR_TRAFFIC_URL)\n",
    "# Read a file from your local file system\n",
    "floods_over_time = pd.read_csv('./floods_by_cause_by_year.csv')"
   ]
  },
  {
   "cell_type": "code",
   "execution_count": null,
   "metadata": {},
   "outputs": [],
   "source": [
    "# See the first 5 rows\n",
    "floods.head()"
   ]
  },
  {
   "cell_type": "code",
   "execution_count": null,
   "metadata": {},
   "outputs": [],
   "source": [
    "# See the last 5 rows in any data set\n",
    "floods.tail()"
   ]
  },
  {
   "cell_type": "code",
   "execution_count": null,
   "metadata": {},
   "outputs": [],
   "source": [
    "# Get summary statistics\n",
    "floods.describe()"
   ]
  },
  {
   "cell_type": "code",
   "execution_count": null,
   "metadata": {},
   "outputs": [],
   "source": [
    "# See the names of all the columns\n",
    "floods.columns"
   ]
  },
  {
   "cell_type": "code",
   "execution_count": null,
   "metadata": {},
   "outputs": [],
   "source": [
    "# Select a single colmn\n",
    "floods['area']"
   ]
  },
  {
   "cell_type": "code",
   "execution_count": null,
   "metadata": {},
   "outputs": [],
   "source": [
    "# Get a histogram for a single column\n",
    "floods['area'].hist()"
   ]
  },
  {
   "cell_type": "code",
   "execution_count": null,
   "metadata": {},
   "outputs": [],
   "source": [
    "# You're also in Python, so you can call in other Python functions\n",
    "import math\n",
    "# Apply a log scale to the histogram\n",
    "\n",
    "# In case logs are murky:\n",
    "# This is essentially counting the number of digits - 1\n",
    "# math.log10(100) == 2\n",
    "# math.log10(1000) == 3\n",
    "# etc\n",
    "\n",
    "floods['area'].apply(math.log10).hist()"
   ]
  },
  {
   "cell_type": "code",
   "execution_count": null,
   "metadata": {},
   "outputs": [],
   "source": [
    "# Aggregation\n",
    "floods.count()"
   ]
  },
  {
   "cell_type": "code",
   "execution_count": null,
   "metadata": {},
   "outputs": [],
   "source": [
    "# Your turn! How many rows are in the SFO data?"
   ]
  },
  {
   "cell_type": "code",
   "execution_count": null,
   "metadata": {},
   "outputs": [],
   "source": [
    "# Aggregate by group\n",
    "floods.groupby('main_cause').count().head()"
   ]
  },
  {
   "cell_type": "code",
   "execution_count": null,
   "metadata": {},
   "outputs": [],
   "source": [
    "# Sorting and chaining functions - this would give us the top 10 causes of floods by frequency\n",
    "grouped_floods = floods.groupby('main_cause').count()\n",
    "grouped_floods.sort_values('id', ascending=False).head()"
   ]
  },
  {
   "cell_type": "code",
   "execution_count": null,
   "metadata": {},
   "outputs": [],
   "source": [
    "# Your turn: Plot the data in an ascending order\n",
    "# grouped_floods.sort_values('id', ascending=True).head()"
   ]
  },
  {
   "cell_type": "code",
   "execution_count": null,
   "metadata": {},
   "outputs": [],
   "source": [
    "# This will be easier to plot\n",
    "import math\n",
    "\n",
    "def safe_log10(num):\n",
    "    if num >= 1:\n",
    "        return math.log10(num)\n",
    "    return num\n",
    "\n",
    "floods['log10_displaced'] = floods['displaced'].apply(safe_log10)"
   ]
  },
  {
   "cell_type": "markdown",
   "metadata": {},
   "source": [
    "## Charts"
   ]
  },
  {
   "cell_type": "markdown",
   "metadata": {},
   "source": [
    "### relplots"
   ]
  },
  {
   "cell_type": "code",
   "execution_count": null,
   "metadata": {},
   "outputs": [],
   "source": [
    "import matplotlib.pyplot as plt\n",
    "import seaborn as sns\n",
    "\n",
    "%matplotlib inline\n",
    "sns.set(rc={'figure.figsize':(24.7, 8.6)})\n",
    "plt.figure(figsize=(45,10))"
   ]
  },
  {
   "cell_type": "code",
   "execution_count": null,
   "metadata": {},
   "outputs": [],
   "source": [
    "# Correlations in Seaborn\n",
    "sns.relplot(x='log10_displaced', y='area', data=floods, aspect=3)"
   ]
  },
  {
   "cell_type": "code",
   "execution_count": null,
   "metadata": {},
   "outputs": [],
   "source": [
    "sns.relplot(x='lng', y='lat', alpha=0.1, data=floods, aspect=2)"
   ]
  },
  {
   "cell_type": "code",
   "execution_count": null,
   "metadata": {},
   "outputs": [],
   "source": [
    "# Create your own function to recode the data\n",
    "\n",
    "def recode_cause(cause):\n",
    "    cause = str(cause).lower()\n",
    "    if 'monsoon' in cause:\n",
    "        return 'MONSOON'\n",
    "    elif 'rain' in cause:\n",
    "        return 'RAIN'\n",
    "    elif 'melt' in cause:\n",
    "        return 'SNOWMELT'\n",
    "    elif 'tropical storm' in cause:\n",
    "        return 'TROPICAL STORM'\n",
    "    else:\n",
    "        return 'OTHER'\n",
    "\n",
    "\n",
    "floods['cause_recoded'] = floods['main_cause'].apply(recode_cause)\n",
    "floods.head()"
   ]
  },
  {
   "cell_type": "code",
   "execution_count": null,
   "metadata": {},
   "outputs": [],
   "source": [
    "# Show relationship between two variables\n",
    "sns.relplot(x='lng', y='lat', alpha=0.2, data=floods, hue='cause_recoded', aspect=3)"
   ]
  },
  {
   "cell_type": "code",
   "execution_count": null,
   "metadata": {},
   "outputs": [],
   "source": [
    "import pydeck\n",
    "\n",
    "# Same data on an interactive map\n",
    "color_lookup = pydeck.data_utils.assign_random_colors(floods['cause_recoded'])\n",
    "floods['rgb'] = floods['cause_recoded'].apply(lambda x: color_lookup[x])\n",
    "\n",
    "scatter = pydeck.Layer(\n",
    "    'ScatterplotLayer',\n",
    "    data=floods,\n",
    "    get_position='[lng, lat]',\n",
    "    get_radius='30000 * severity',\n",
    "    get_fill_color='rgb',\n",
    "    pickable=True\n",
    ")\n",
    "geojson = pydeck.Layer(\n",
    "    'GeoJsonLayer',\n",
    "    data='https://datahub.io/core/geo-countries/r/countries.geojson',\n",
    "    line_width_min_pixels=1,\n",
    "    get_radius=10000,\n",
    "    stroked=True,\n",
    "    extruded=False,\n",
    "    filled=True,\n",
    "    get_line_color=[255, 255, 255, 255]\n",
    ")\n",
    "pydeck.Deck(layers=[geojson, scatter], tooltip=True).to_html()"
   ]
  },
  {
   "cell_type": "markdown",
   "metadata": {},
   "source": [
    "### Barcharts"
   ]
  },
  {
   "cell_type": "code",
   "execution_count": null,
   "metadata": {},
   "outputs": [],
   "source": [
    "import matplotlib.pyplot as plt\n",
    "\n",
    "# Relative comparisons\n",
    "sp = sns.barplot(\n",
    "    x='cause_recoded',\n",
    "    y='log10_displaced',\n",
    "    data=floods)\n",
    "\n",
    "sns.set(font_scale=2)\n",
    "sp.set_xticklabels(sp.get_xticklabels(), rotation=30)\n",
    "sp.set(\n",
    "    xlabel='Cause',\n",
    "    ylabel='Log of # of People Displaced',\n",
    "    title='Relative Distributions of Flood Causes')"
   ]
  },
  {
   "cell_type": "code",
   "execution_count": null,
   "metadata": {},
   "outputs": [],
   "source": [
    "# For ease of use, I'll recode a date string\n",
    "sfo['datetime'] = sfo['Activity Period'].apply(lambda x: str(x)[:4] + '-' + str(x)[4:] + '-01')"
   ]
  },
  {
   "cell_type": "code",
   "execution_count": null,
   "metadata": {},
   "outputs": [],
   "source": [
    "# Time series\n",
    "sns.set(style=\"whitegrid\")\n",
    "df = sfo.groupby(['datetime']).sum()['Passenger Count']\n",
    "df = df.reset_index()\n",
    "sp = sns.lineplot(\n",
    "    x='datetime',\n",
    "    y='Passenger Count',\n",
    "    data=df,\n",
    "    linewidth=2)\n",
    "labels = [x if x.endswith('-12-01') or x.endswith('-06-01') else '' for x in df['datetime']]\n",
    "sp.set_xticklabels(labels, rotation=30)\n",
    "sp"
   ]
  },
  {
   "cell_type": "code",
   "execution_count": null,
   "metadata": {},
   "outputs": [],
   "source": [
    "import numpy as np\n",
    "df = sfo.groupby(['datetime', 'Price Category Code']).sum()['Passenger Count']\n",
    "df = df.reset_index()\n",
    "pivoted = pd.pivot_table(\n",
    "    data=df,\n",
    "    index='datetime',\n",
    "    columns='Price Category Code',\n",
    "    values='Passenger Count',\n",
    "    aggfunc=np.sum)\n",
    "c = sns.lineplot(data=pivoted, palette=\"tab10\", hue='Price Category Code', linewidth=2.5)\n",
    "c.set_xticklabels(c.get_xticklabels(), rotation=30)\n",
    "c"
   ]
  },
  {
   "cell_type": "code",
   "execution_count": null,
   "metadata": {},
   "outputs": [],
   "source": [
    "import matplotlib.pyplot as plt\n",
    "import seaborn as sns\n",
    "# Heatmap from Seaborn docs\n",
    "\n",
    "# Load the example flights dataset and convert to long-form\n",
    "flights_long = sns.load_dataset(\"flights\")\n",
    "flights = flights_long.pivot(\"month\", \"year\", \"passengers\")\n",
    "\n",
    "# Draw a heatmap with the numeric values in each cell\n",
    "f, ax = plt.subplots(figsize=(9, 6))\n",
    "sns.heatmap(flights, annot=True, fmt=\"d\", linewidths=.5, ax=ax)"
   ]
  },
  {
   "cell_type": "code",
   "execution_count": null,
   "metadata": {},
   "outputs": [],
   "source": [
    "# Subtle errors:\n",
    "\n",
    "sns.lineplot(data=floods_over_time.set_index('began'))"
   ]
  },
  {
   "cell_type": "code",
   "execution_count": null,
   "metadata": {},
   "outputs": [],
   "source": [
    "line_plot = sns.lmplot(\n",
    "    data=sfo,\n",
    "    x='Activity Period',\n",
    "    y='Passenger Count',\n",
    "    hue='GEO Region',\n",
    "    aspect=3)"
   ]
  },
  {
   "cell_type": "code",
   "execution_count": null,
   "metadata": {},
   "outputs": [],
   "source": [
    "# Your turn\n",
    "# Can you generate a chart of the passegner count by GEO Region?"
   ]
  }
 ],
 "metadata": {
  "kernelspec": {
   "display_name": "Python 3",
   "language": "python",
   "name": "python3"
  },
  "language_info": {
   "codemirror_mode": {
    "name": "ipython",
    "version": 3
   },
   "file_extension": ".py",
   "mimetype": "text/x-python",
   "name": "python",
   "nbconvert_exporter": "python",
   "pygments_lexer": "ipython3",
   "version": "3.7.4"
  }
 },
 "nbformat": 4,
 "nbformat_minor": 2
}
